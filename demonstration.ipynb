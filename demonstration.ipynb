{
 "cells": [
  {
   "cell_type": "code",
   "execution_count": 1,
   "metadata": {},
   "outputs": [
    {
     "name": "stdout",
     "output_type": "stream",
     "text": [
      "Best Rotator by Kirill and Vlad\n",
      "With LOVE for Geoscan\n"
     ]
    }
   ],
   "source": [
    "import bb_getter.bb_getter2 as bbox_getter\n",
    "import cv2\n",
    "import numpy as np\n",
    "import matplotlib.pyplot as plt\n",
    "import os"
   ]
  },
  {
   "cell_type": "code",
   "execution_count": 2,
   "metadata": {},
   "outputs": [],
   "source": [
    "def show_bboxes(NAME, bboxes):\n",
    "    image_original = cv2.imread(NAME)\n",
    "    new_rect_rotated = np.zeros_like(image_original)\n",
    "    colors = [(0,255,0), (255, 0, 0), (0,0,255)]\n",
    "    i = 0\n",
    "\n",
    "    for bbox in bboxes:\n",
    "        p1,p2,p3,p4 = bbox\n",
    "        new_rect_rotated = cv2.circle(new_rect_rotated, p1,2, colors[i], 30)\n",
    "        new_rect_rotated = cv2.circle(new_rect_rotated, p2,2, colors[i], 30)\n",
    "        new_rect_rotated = cv2.circle(new_rect_rotated, p3,2, colors[i], 30)\n",
    "        new_rect_rotated = cv2.circle(new_rect_rotated, p4,2, colors[i], 30)\n",
    "        i = (i+1)%3\n",
    "        \n",
    "    final  = cv2.addWeighted(image_original,1,new_rect_rotated,1,0)\n",
    "    final = cv2.cvtColor(final, cv2.COLOR_BGR2RGB)\n",
    "    plt.imshow(final)"
   ]
  },
  {
   "cell_type": "code",
   "execution_count": null,
   "metadata": {},
   "outputs": [],
   "source": [
    "NAME = \"\"\n",
    "PATH = \"images_for_test\"\n",
    "save_path = \"debug\"\n",
    "\n",
    "for name in os.listdir(PATH):\n",
    "    bboxes = bbox_getter.get_bb(f\"{PATH}/{name}\", save_path=save_path, verbose=0)"
   ]
  },
  {
   "cell_type": "code",
   "execution_count": null,
   "metadata": {},
   "outputs": [],
   "source": []
  }
 ],
 "metadata": {
  "kernelspec": {
   "display_name": "venv10",
   "language": "python",
   "name": "python3"
  },
  "language_info": {
   "codemirror_mode": {
    "name": "ipython",
    "version": 3
   },
   "file_extension": ".py",
   "mimetype": "text/x-python",
   "name": "python",
   "nbconvert_exporter": "python",
   "pygments_lexer": "ipython3",
   "version": "3.10.9"
  },
  "orig_nbformat": 4,
  "vscode": {
   "interpreter": {
    "hash": "13c4c3a47c99110407214a751f31aa265b4782e53ba4f3cf8d19f80aca1c335f"
   }
  }
 },
 "nbformat": 4,
 "nbformat_minor": 2
}
