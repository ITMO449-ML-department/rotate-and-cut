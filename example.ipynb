{
 "cells": [
  {
   "attachments": {},
   "cell_type": "markdown",
   "metadata": {},
   "source": [
    "Импорт необходимых библиотек"
   ]
  },
  {
   "cell_type": "code",
   "execution_count": 1,
   "metadata": {},
   "outputs": [],
   "source": [
    "import bb_getter.bb_getter2 as bbox_getter\n",
    "import cv2\n",
    "import numpy as np\n",
    "import matplotlib.pyplot as plt\n",
    "import os"
   ]
  },
  {
   "attachments": {},
   "cell_type": "markdown",
   "metadata": {},
   "source": [
    "Вспомогательная функция для визуализации результатов"
   ]
  },
  {
   "cell_type": "code",
   "execution_count": 2,
   "metadata": {},
   "outputs": [],
   "source": [
    "def show_bboxes(NAME, bboxes):\n",
    "    image_original = cv2.imread(NAME)\n",
    "    new_rect_rotated = np.zeros_like(image_original)\n",
    "    colors = [(0,255,0), (255, 0, 0), (0,0,255)]\n",
    "    i = 0\n",
    "\n",
    "    for bbox in bboxes:\n",
    "        p1,p2,p3,p4 = bbox\n",
    "        new_rect_rotated = cv2.circle(new_rect_rotated, p1,2, colors[i], 30)\n",
    "        new_rect_rotated = cv2.circle(new_rect_rotated, p2,2, colors[i], 30)\n",
    "        new_rect_rotated = cv2.circle(new_rect_rotated, p3,2, colors[i], 30)\n",
    "        new_rect_rotated = cv2.circle(new_rect_rotated, p4,2, colors[i], 30)\n",
    "        i = (i+1)%3\n",
    "        \n",
    "    final  = cv2.addWeighted(image_original,1,new_rect_rotated,1,0)\n",
    "    final = cv2.cvtColor(final, cv2.COLOR_BGR2RGB)\n",
    "    plt.imshow(final)"
   ]
  },
  {
   "attachments": {},
   "cell_type": "markdown",
   "metadata": {},
   "source": [
    "Анализ одной картинки"
   ]
  },
  {
   "cell_type": "code",
   "execution_count": 3,
   "metadata": {},
   "outputs": [
    {
     "ename": "AttributeError",
     "evalue": "module 'cv2' has no attribute 'xfeatures2d'",
     "output_type": "error",
     "traceback": [
      "\u001b[0;31m---------------------------------------------------------------------------\u001b[0m",
      "\u001b[0;31mAttributeError\u001b[0m                            Traceback (most recent call last)",
      "Cell \u001b[0;32mIn[3], line 4\u001b[0m\n\u001b[1;32m      1\u001b[0m NAME \u001b[39m=\u001b[39m \u001b[39m\"\u001b[39m\u001b[39mexamples/example_1.jpg\u001b[39m\u001b[39m\"\u001b[39m\n\u001b[1;32m      2\u001b[0m save_path \u001b[39m=\u001b[39m \u001b[39m\"\u001b[39m\u001b[39mdebug\u001b[39m\u001b[39m\"\u001b[39m\n\u001b[0;32m----> 4\u001b[0m bboxes \u001b[39m=\u001b[39m bbox_getter\u001b[39m.\u001b[39;49mget_bb(NAME, intensity \u001b[39m=\u001b[39;49m \u001b[39m\"\u001b[39;49m\u001b[39mkeypoints\u001b[39;49m\u001b[39m\"\u001b[39;49m, smooth \u001b[39m=\u001b[39;49m \u001b[39mFalse\u001b[39;49;00m, save_path\u001b[39m=\u001b[39;49msave_path, verbose\u001b[39m=\u001b[39;49m\u001b[39m0\u001b[39;49m)\n\u001b[1;32m      5\u001b[0m show_bboxes(NAME, bboxes)\n",
      "File \u001b[0;32m~/geoscan/rotate-and-cut/bb_getter/bb_getter2.py:293\u001b[0m, in \u001b[0;36mget_bb\u001b[0;34m(name, image_array, save_path, intensity, smooth, verbose)\u001b[0m\n\u001b[1;32m    290\u001b[0m     plt\u001b[39m.\u001b[39mimsave(save_path \u001b[39m+\u001b[39m \u001b[39m\"\u001b[39m\u001b[39mrows_mask.jpg\u001b[39m\u001b[39m\"\u001b[39m, lines_mask_tiled)\n\u001b[1;32m    292\u001b[0m \u001b[39mif\u001b[39;00m intensity \u001b[39m==\u001b[39m \u001b[39m\"\u001b[39m\u001b[39mkeypoints\u001b[39m\u001b[39m\"\u001b[39m:\n\u001b[0;32m--> 293\u001b[0m     mn, mn_smoothed, parts, inds \u001b[39m=\u001b[39m _calculate_intensities_by_key_points(image_original_rotated_array, verbose)\n\u001b[1;32m    294\u001b[0m \u001b[39melif\u001b[39;00m intensity \u001b[39m==\u001b[39m \u001b[39m\"\u001b[39m\u001b[39mkmeansmask\u001b[39m\u001b[39m\"\u001b[39m:\n\u001b[1;32m    295\u001b[0m     mn, mn_smoothed, parts, inds \u001b[39m=\u001b[39m _calculate_intensities_by_k_mean_mask(rows_image_rotated_array, image_original_rotated_array, verbose)\n",
      "File \u001b[0;32m~/geoscan/rotate-and-cut/bb_getter/bb_getter2.py:76\u001b[0m, in \u001b[0;36m_calculate_intensities_by_key_points\u001b[0;34m(image_original_rotated_array, verbose)\u001b[0m\n\u001b[1;32m     74\u001b[0m img \u001b[39m=\u001b[39m cv2\u001b[39m.\u001b[39mcvtColor(image_original_rotated_array\u001b[39m.\u001b[39mastype(np\u001b[39m.\u001b[39muint8), cv2\u001b[39m.\u001b[39mCOLOR_BGR2GRAY)\n\u001b[1;32m     75\u001b[0m \u001b[39m# Initiate FAST detector\u001b[39;00m\n\u001b[0;32m---> 76\u001b[0m star \u001b[39m=\u001b[39m cv2\u001b[39m.\u001b[39;49mxfeatures2d\u001b[39m.\u001b[39mStarDetector_create()\n\u001b[1;32m     77\u001b[0m \u001b[39m# find the keypoints with STAR\u001b[39;00m\n\u001b[1;32m     78\u001b[0m kp \u001b[39m=\u001b[39m star\u001b[39m.\u001b[39mdetect(img,\u001b[39mNone\u001b[39;00m)\n",
      "\u001b[0;31mAttributeError\u001b[0m: module 'cv2' has no attribute 'xfeatures2d'"
     ]
    },
    {
     "data": {
      "text/plain": [
       "<Figure size 640x480 with 0 Axes>"
      ]
     },
     "metadata": {},
     "output_type": "display_data"
    }
   ],
   "source": [
    "NAME = \"examples/example_1.jpg\"\n",
    "save_path = \"debug\"\n",
    "\n",
    "bboxes = bbox_getter.get_bb(NAME, intensity = \"keypoints\", smooth = False, save_path=save_path, verbose=0)\n",
    "show_bboxes(NAME, bboxes)"
   ]
  },
  {
   "attachments": {},
   "cell_type": "markdown",
   "metadata": {},
   "source": [
    "Анализ всех картинок из папки"
   ]
  },
  {
   "cell_type": "code",
   "execution_count": null,
   "metadata": {},
   "outputs": [],
   "source": [
    "PATH = \"examples\"\n",
    "save_path = \"debug\"\n",
    "\n",
    "for name in sorted(os.listdir(PATH)):\n",
    "    print(f\"Analysing {name}\")\n",
    "    bboxes = bbox_getter.get_bb(f\"{PATH}/{name}\", intensity = \"keypoints\", smooth = False, save_path=save_path, verbose=0)"
   ]
  },
  {
   "cell_type": "code",
   "execution_count": null,
   "metadata": {},
   "outputs": [],
   "source": []
  }
 ],
 "metadata": {
  "kernelspec": {
   "display_name": "venv10",
   "language": "python",
   "name": "python3"
  },
  "language_info": {
   "codemirror_mode": {
    "name": "ipython",
    "version": 3
   },
   "file_extension": ".py",
   "mimetype": "text/x-python",
   "name": "python",
   "nbconvert_exporter": "python",
   "pygments_lexer": "ipython3",
   "version": "3.10.9"
  },
  "orig_nbformat": 4,
  "vscode": {
   "interpreter": {
    "hash": "13c4c3a47c99110407214a751f31aa265b4782e53ba4f3cf8d19f80aca1c335f"
   }
  }
 },
 "nbformat": 4,
 "nbformat_minor": 2
}
