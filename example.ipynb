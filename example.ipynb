{
 "cells": [
  {
   "attachments": {},
   "cell_type": "markdown",
   "metadata": {},
   "source": [
    "Импорт необходимых библиотек"
   ]
  },
  {
   "cell_type": "code",
   "execution_count": 2,
   "metadata": {},
   "outputs": [
    {
     "ename": "ImportError",
     "evalue": "attempted relative import with no known parent package",
     "output_type": "error",
     "traceback": [
      "\u001b[0;31m---------------------------------------------------------------------------\u001b[0m",
      "\u001b[0;31mImportError\u001b[0m                               Traceback (most recent call last)",
      "Cell \u001b[0;32mIn[2], line 1\u001b[0m\n\u001b[0;32m----> 1\u001b[0m \u001b[39mfrom\u001b[39;00m \u001b[39m.\u001b[39;00m\u001b[39m.\u001b[39;00m \u001b[39mimport\u001b[39;00m bb_getter\n\u001b[1;32m      2\u001b[0m \u001b[39mimport\u001b[39;00m \u001b[39mbb_getter\u001b[39;00m\u001b[39m.\u001b[39;00m\u001b[39mbb_getter2\u001b[39;00m \u001b[39mas\u001b[39;00m \u001b[39mbbox_getter\u001b[39;00m\n\u001b[1;32m      3\u001b[0m \u001b[39mimport\u001b[39;00m \u001b[39mcv2\u001b[39;00m\n",
      "\u001b[0;31mImportError\u001b[0m: attempted relative import with no known parent package"
     ]
    }
   ],
   "source": [
    "from .. import bb_getter\n",
    "import bb_getter.bb_getter2 as bbox_getter\n",
    "import cv2\n",
    "import numpy as np\n",
    "import matplotlib.pyplot as plt\n",
    "import os"
   ]
  },
  {
   "attachments": {},
   "cell_type": "markdown",
   "metadata": {},
   "source": [
    "Вспомогательная функция для визуализации результатов"
   ]
  },
  {
   "cell_type": "code",
   "execution_count": 2,
   "metadata": {},
   "outputs": [],
   "source": [
    "def show_bboxes(NAME, bboxes):\n",
    "    image_original = cv2.imread(NAME)\n",
    "    new_rect_rotated = np.zeros_like(image_original)\n",
    "    colors = [(0,255,0), (255, 0, 0), (0,0,255)]\n",
    "    i = 0\n",
    "\n",
    "    for bbox in bboxes:\n",
    "        p1,p2,p3,p4 = bbox\n",
    "        new_rect_rotated = cv2.circle(new_rect_rotated, p1,2, colors[i], 30)\n",
    "        new_rect_rotated = cv2.circle(new_rect_rotated, p2,2, colors[i], 30)\n",
    "        new_rect_rotated = cv2.circle(new_rect_rotated, p3,2, colors[i], 30)\n",
    "        new_rect_rotated = cv2.circle(new_rect_rotated, p4,2, colors[i], 30)\n",
    "        i = (i+1)%3\n",
    "        \n",
    "    final  = cv2.addWeighted(image_original,1,new_rect_rotated,1,0)\n",
    "    final = cv2.cvtColor(final, cv2.COLOR_BGR2RGB)\n",
    "    plt.imshow(final)"
   ]
  },
  {
   "attachments": {},
   "cell_type": "markdown",
   "metadata": {},
   "source": [
    "Анализ одной картинки"
   ]
  },
  {
   "cell_type": "code",
   "execution_count": 3,
   "metadata": {},
   "outputs": [],
   "source": [
    "NAME = \"images_for_test/example_1.jpg\"\n",
    "save_path = \"debug\"\n",
    "\n",
    "bboxes = bbox_getter.get_bb(NAME, save_path=save_path, verbose=0)\n",
    "show_bboxes(NAME, bboxes)"
   ]
  },
  {
   "attachments": {},
   "cell_type": "markdown",
   "metadata": {},
   "source": [
    "Анализ всех картинок из папки"
   ]
  },
  {
   "cell_type": "code",
   "execution_count": null,
   "metadata": {},
   "outputs": [],
   "source": [
    "PATH = \"images_for_test\"\n",
    "save_path = \"debug\"\n",
    "\n",
    "for name in os.listdir(PATH):\n",
    "    bboxes = bbox_getter.get_bb(f\"{PATH}/{name}\", save_path=save_path, verbose=0)"
   ]
  }
 ],
 "metadata": {
  "kernelspec": {
   "display_name": "venv10",
   "language": "python",
   "name": "python3"
  },
  "language_info": {
   "codemirror_mode": {
    "name": "ipython",
    "version": 3
   },
   "file_extension": ".py",
   "mimetype": "text/x-python",
   "name": "python",
   "nbconvert_exporter": "python",
   "pygments_lexer": "ipython3",
   "version": "3.10.9"
  },
  "orig_nbformat": 4,
  "vscode": {
   "interpreter": {
    "hash": "13c4c3a47c99110407214a751f31aa265b4782e53ba4f3cf8d19f80aca1c335f"
   }
  }
 },
 "nbformat": 4,
 "nbformat_minor": 2
}
