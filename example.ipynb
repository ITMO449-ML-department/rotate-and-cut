{
 "cells": [
  {
   "attachments": {},
   "cell_type": "markdown",
   "metadata": {},
   "source": [
    "Импорт необходимых библиотек"
   ]
  },
  {
   "cell_type": "code",
   "execution_count": 1,
   "metadata": {},
   "outputs": [],
   "source": [
    "import bb_getter2 as bbox_getter\n",
    "import cv2\n",
    "import numpy as np\n",
    "import matplotlib.pyplot as plt\n",
    "import os"
   ]
  },
  {
   "attachments": {},
   "cell_type": "markdown",
   "metadata": {},
   "source": [
    "Вспомогательная функция для визуализации результатов"
   ]
  },
  {
   "cell_type": "code",
   "execution_count": 2,
   "metadata": {},
   "outputs": [],
   "source": [
    "def show_bboxes(NAME, bboxes):\n",
    "    image_original = cv2.imread(NAME)\n",
    "    new_rect_rotated = np.zeros_like(image_original)\n",
    "    colors = [(0,255,0), (255, 0, 0), (0,0,255)]\n",
    "    i = 0\n",
    "\n",
    "    for bbox in bboxes:\n",
    "        p1,p2,p3,p4 = bbox\n",
    "        new_rect_rotated = cv2.circle(new_rect_rotated, p1,2, colors[i], 30)\n",
    "        new_rect_rotated = cv2.circle(new_rect_rotated, p2,2, colors[i], 30)\n",
    "        new_rect_rotated = cv2.circle(new_rect_rotated, p3,2, colors[i], 30)\n",
    "        new_rect_rotated = cv2.circle(new_rect_rotated, p4,2, colors[i], 30)\n",
    "        i = (i+1)%3\n",
    "        \n",
    "    final  = cv2.addWeighted(image_original,1,new_rect_rotated,1,0)\n",
    "    final = cv2.cvtColor(final, cv2.COLOR_BGR2RGB)\n",
    "    plt.imshow(final)"
   ]
  },
  {
   "attachments": {},
   "cell_type": "markdown",
   "metadata": {},
   "source": [
    "Анализ одной картинки"
   ]
  },
  {
   "cell_type": "code",
   "execution_count": 3,
   "metadata": {},
   "outputs": [
    {
     "name": "stdout",
     "output_type": "stream",
     "text": [
      "    (1008, 2495, 3)\n",
      "    (2514960,) (1008, 2495, 3)\n",
      "    0.06006404993327142\n"
     ]
    }
   ],
   "source": [
    "NAME = \"examples/example_8.jpg\"\n",
    "save_path = \"debug\"\n",
    "\n",
    "bboxes = bbox_getter.get_bb(NAME, intensity = \"kmeansmask\", smooth = False, save_path=save_path, verbose=0)\n",
    "show_bboxes(NAME, bboxes)"
   ]
  },
  {
   "attachments": {},
   "cell_type": "markdown",
   "metadata": {},
   "source": [
    "Анализ всех картинок из папки"
   ]
  },
  {
   "cell_type": "code",
   "execution_count": 6,
   "metadata": {},
   "outputs": [
    {
     "name": "stdout",
     "output_type": "stream",
     "text": [
      "Analysing example_1.jpg\n",
      "    (4332, 2104, 3)\n",
      "    (9114528,) (4332, 2104, 3)\n",
      "    11.966359201338923\n",
      "Analysing example_2.jpg\n",
      "    (3547, 2297, 3)\n",
      "    (8147459,) (3547, 2297, 3)\n",
      "    11.853866291668258\n",
      "Analysing example_3.jpg\n",
      "    (2293, 2334, 3)\n",
      "    (5351862,) (2293, 2334, 3)\n",
      "    -49.841418357783056\n",
      "Analysing example_4.jpg\n",
      "    (3112, 2866, 3)\n",
      "    (8918992,) (3112, 2866, 3)\n",
      "    -49.64378741723239\n",
      "Analysing example_5.jpg\n",
      "    (2926, 1698, 3)\n",
      "    (4968348,) (2926, 1698, 3)\n",
      "    -49.09251358744\n",
      "Analysing example_6.jpg\n",
      "    (1899, 5049, 3)\n",
      "    (9588051,) (1899, 5049, 3)\n",
      "    -73.84956550542705\n",
      "Analysing example_7.jpg\n",
      "    (2966, 2889, 3)\n",
      "    (8568774,) (2966, 2889, 3)\n",
      "    -49.029959973377025\n",
      "Analysing example_8.jpg\n",
      "    (1008, 2495, 3)\n",
      "    (2514960,) (1008, 2495, 3)\n",
      "    0.06006404993327142\n"
     ]
    },
    {
     "data": {
      "text/plain": [
       "<Figure size 1200x800 with 0 Axes>"
      ]
     },
     "metadata": {},
     "output_type": "display_data"
    },
    {
     "data": {
      "text/plain": [
       "<Figure size 1200x800 with 0 Axes>"
      ]
     },
     "metadata": {},
     "output_type": "display_data"
    },
    {
     "data": {
      "text/plain": [
       "<Figure size 1200x800 with 0 Axes>"
      ]
     },
     "metadata": {},
     "output_type": "display_data"
    },
    {
     "data": {
      "text/plain": [
       "<Figure size 1200x800 with 0 Axes>"
      ]
     },
     "metadata": {},
     "output_type": "display_data"
    },
    {
     "data": {
      "text/plain": [
       "<Figure size 1200x800 with 0 Axes>"
      ]
     },
     "metadata": {},
     "output_type": "display_data"
    },
    {
     "data": {
      "text/plain": [
       "<Figure size 1200x800 with 0 Axes>"
      ]
     },
     "metadata": {},
     "output_type": "display_data"
    },
    {
     "data": {
      "text/plain": [
       "<Figure size 1200x800 with 0 Axes>"
      ]
     },
     "metadata": {},
     "output_type": "display_data"
    },
    {
     "data": {
      "text/plain": [
       "<Figure size 1200x800 with 0 Axes>"
      ]
     },
     "metadata": {},
     "output_type": "display_data"
    }
   ],
   "source": [
    "PATH = \"examples\"\n",
    "save_path = \"debug\"\n",
    "\n",
    "for name in sorted(os.listdir(PATH)):\n",
    "    print(f\"Analysing {name}\")\n",
    "    bboxes = bbox_getter.get_bb(f\"{PATH}/{name}\", intensity = \"kmeansmask\", smooth = False, save_path=save_path, verbose=0)"
   ]
  },
  {
   "cell_type": "code",
   "execution_count": null,
   "metadata": {},
   "outputs": [],
   "source": []
  }
 ],
 "metadata": {
  "kernelspec": {
   "display_name": "venv10",
   "language": "python",
   "name": "python3"
  },
  "language_info": {
   "codemirror_mode": {
    "name": "ipython",
    "version": 3
   },
   "file_extension": ".py",
   "mimetype": "text/x-python",
   "name": "python",
   "nbconvert_exporter": "python",
   "pygments_lexer": "ipython3",
   "version": "3.10.9"
  },
  "orig_nbformat": 4,
  "vscode": {
   "interpreter": {
    "hash": "13c4c3a47c99110407214a751f31aa265b4782e53ba4f3cf8d19f80aca1c335f"
   }
  }
 },
 "nbformat": 4,
 "nbformat_minor": 2
}
